{
 "cells": [
  {
   "cell_type": "markdown",
   "id": "d2aeae76-b04c-4a56-a3c1-d57e69a5db12",
   "metadata": {},
   "source": [
    "### Paso 1: .doc a .csv"
   ]
  },
  {
   "cell_type": "code",
   "execution_count": 1,
   "id": "072ef634-294c-4061-aba5-72e4804650c2",
   "metadata": {},
   "outputs": [],
   "source": [
    "import os\n",
    "import re\n",
    "from docx import Document\n",
    "import pandas as pd"
   ]
  },
  {
   "cell_type": "code",
   "execution_count": 2,
   "id": "56d39743-2cf0-4832-859f-f30e1cd6347b",
   "metadata": {},
   "outputs": [],
   "source": [
    "# Ruta a carpeta local con archivos .docx y donde se guardara el archivo .csv\n",
    "carpeta = \"Informes/\"\n",
    "archivo_csv = \"documentos_medicos.csv\"\n",
    "datos = []\n",
    "nuevos_datos = []"
   ]
  },
  {
   "cell_type": "code",
   "execution_count": 3,
   "id": "37ccb823-e775-4012-addb-be098bf673f5",
   "metadata": {},
   "outputs": [],
   "source": [
    "def extraer_texto_docx(archivo):\n",
    "    doc = Document(archivo)\n",
    "    texto = '\\n'.join([p.text for p in doc.paragraphs if p.text.strip() != \"\"])\n",
    "    return texto"
   ]
  },
  {
   "cell_type": "code",
   "execution_count": 4,
   "id": "2734ea31-4bf1-48fa-bc07-ded51e65c6d5",
   "metadata": {},
   "outputs": [],
   "source": [
    "def extraer_campos(texto):\n",
    "    paciente = re.search(r\"Paciente:\\s*(.*)\", texto)\n",
    "    edad = re.search(r\"Edad:\\s*(\\d+)\", texto)\n",
    "    fecha = re.search(r\"Fecha de Ingreso:\\s*(.*)\", texto)\n",
    "    dx = re.search(r\"Diagnóstico Presuntivo:\\s*(.*)\", texto)\n",
    "    meds = re.search(r\"Medicamentos Recetados:(.*?)(Instrucciones|Firma|$)\", texto, re.DOTALL)\n",
    "\n",
    "    return {\n",
    "        \"paciente\": paciente.group(1).strip() if paciente else \"\",\n",
    "        \"edad\": int(edad.group(1)) if edad else \"\",\n",
    "        \"fecha_ingreso\": fecha.group(1).strip() if fecha else \"\",\n",
    "        \"diagnostico\": dx.group(1).strip() if dx else \"\",\n",
    "        \"medicamentos\": meds.group(1).strip().replace(\"\\n\", \", \") if meds else \"\"\n",
    "    }"
   ]
  },
  {
   "cell_type": "code",
   "execution_count": 5,
   "id": "f990d9cb-1916-40b3-a970-0a45ba45f143",
   "metadata": {},
   "outputs": [],
   "source": [
    "# Cargar CSV existente si ya existe\n",
    "if os.path.exists(archivo_csv):\n",
    "    df_existente = pd.read_csv(archivo_csv, encoding='utf-8')\n",
    "else:\n",
    "    df_existente = pd.DataFrame()"
   ]
  },
  {
   "cell_type": "code",
   "execution_count": 6,
   "id": "44ec3b89-6a47-473a-ad99-e12d84ad2412",
   "metadata": {},
   "outputs": [
    {
     "name": "stdout",
     "output_type": "stream",
     "text": [
      "Paciente ya registrado: Juan Pérez — ignorado.\n",
      "No se encontraron pacientes nuevos.\n"
     ]
    }
   ],
   "source": [
    "for archivo in os.listdir(carpeta):\n",
    "    if archivo.endswith(\".docx\"):\n",
    "        ruta = os.path.join(carpeta, archivo)\n",
    "        texto = extraer_texto_docx(ruta)\n",
    "        campos = extraer_campos(texto)\n",
    "        campos[\"archivo\"] = archivo\n",
    "        datos.append(campos)\n",
    "\n",
    "        # Verificar si el paciente existe\n",
    "        if not df_existente.empty and campos[\"paciente\"] in df_existente[\"paciente\"].values:\n",
    "            print(f\"Paciente ya registrado: {campos['paciente']} — ignorado.\")\n",
    "        else:\n",
    "            nuevos_datos.append(campos)\n",
    "\n",
    "# Agregar y guardar\n",
    "if nuevos_datos:\n",
    "    df_nuevos = pd.DataFrame(nuevos_datos)\n",
    "    df_final = pd.concat([df_existente, df_nuevos], ignore_index=True)\n",
    "    df_final.to_csv(archivo_csv, index=False, encoding='utf-8')\n",
    "    print(\"Datos nuevos agregados al CSV.\")\n",
    "else:\n",
    "    print(\"No se encontraron pacientes nuevos.\")"
   ]
  },
  {
   "cell_type": "code",
   "execution_count": 7,
   "id": "c5b64fde-8ed4-45bd-82c8-0fd161c9e3da",
   "metadata": {},
   "outputs": [
    {
     "name": "stdout",
     "output_type": "stream",
     "text": [
      "     paciente  edad        fecha_ingreso                 diagnostico  \\\n",
      "0  Juan Pérez    45  15 de abril de 2025  Posible apendicitis aguda.   \n",
      "\n",
      "                                        medicamentos    archivo  \n",
      "0  Paracetamol 500mg: 1 tableta cada 8 horas para...  tets.docx  \n"
     ]
    }
   ],
   "source": [
    "# Guardar en CSV\n",
    "df = pd.DataFrame(datos)\n",
    "df.to_csv(\"documentos_medicos.csv\", index=False, encoding='utf-8')\n",
    "\n",
    "# Mostrar el contenido del CSV\n",
    "print(df.head())"
   ]
  },
  {
   "cell_type": "code",
   "execution_count": 8,
   "id": "a943c1c4-0d30-47f7-b4a1-8c23940d449e",
   "metadata": {},
   "outputs": [
    {
     "name": "stdout",
     "output_type": "stream",
     "text": [
      "     paciente  edad        fecha_ingreso                 diagnostico  \\\n",
      "0  Juan Pérez    45  15 de abril de 2025  Posible apendicitis aguda.   \n",
      "\n",
      "                                        medicamentos    archivo  \n",
      "0  Paracetamol 500mg: 1 tableta cada 8 horas para...  tets.docx  \n"
     ]
    }
   ],
   "source": [
    "# Leer el archivo CSV\n",
    "df = pd.read_csv(\"documentos_medicos.csv\", encoding='utf-8')\n",
    "\n",
    "# Mostrar las primeras filas\n",
    "print(df.head())"
   ]
  },
  {
   "cell_type": "markdown",
   "id": "c234c1f0-f431-4c60-b92b-f75e58ff3a80",
   "metadata": {},
   "source": [
    "### Paso 2: Entrenar modelos"
   ]
  },
  {
   "cell_type": "markdown",
   "id": "289a67e5-ee57-4cc0-87d0-6b6288840d00",
   "metadata": {},
   "source": [
    "#### Modelo GPT2"
   ]
  },
  {
   "cell_type": "code",
   "execution_count": 43,
   "id": "83699896-864e-4ddc-ba05-34e7740694cd",
   "metadata": {},
   "outputs": [],
   "source": [
    "from transformers import GPT2LMHeadModel, GPT2Tokenizer\n",
    "import torch\n",
    "\n",
    "# Cargar el modelo y el tokenizer de GPT-2\n",
    "model_name = \"gpt2\"\n",
    "tokenizer = GPT2Tokenizer.from_pretrained(model_name)\n",
    "model = GPT2LMHeadModel.from_pretrained(model_name)\n",
    "\n",
    "# Ajustar el token de padding\n",
    "tokenizer.pad_token = tokenizer.eos_token\n",
    "model.config.pad_token_id = model.config.eos_token_id"
   ]
  },
  {
   "cell_type": "code",
   "execution_count": 44,
   "id": "e48c52ca-6f07-42c0-9acf-69a5cf3b21fa",
   "metadata": {},
   "outputs": [],
   "source": [
    "def generar_epicrisis_gpt2(texto_informe, max_new_tokens=200):\n",
    "    prompt = f\"Resumen médico del siguiente informe clínico:\\n{texto_informe}\\n\\nEpicrisis:\"\n",
    "    inputs = tokenizer(prompt, return_tensors=\"pt\", truncation=True, max_length=1024)\n",
    "    outputs = model.generate(\n",
    "        **inputs,\n",
    "        max_new_tokens=max_new_tokens,\n",
    "        num_beams=4,\n",
    "        no_repeat_ngram_size=2,\n",
    "        early_stopping=True,\n",
    "        pad_token_id=tokenizer.pad_token_id\n",
    "    )\n",
    "    return tokenizer.decode(outputs[0], skip_special_tokens=True)"
   ]
  },
  {
   "cell_type": "code",
   "execution_count": 45,
   "id": "7cff9842-4afe-48b8-9bbe-ae1814579052",
   "metadata": {},
   "outputs": [],
   "source": [
    "def guardar_epicrisis_docx_gpt2(nombre_paciente, texto_epicrisis):\n",
    "    nombre_archivo = f\"epicrisis_{nombre_paciente.replace(' ', '_')}_gpt2.docx\"\n",
    "\n",
    "    if os.path.exists(nombre_archivo):\n",
    "        print(f\"Epicrisis generada en epicrisis_{nombre_paciente.replace(' ', '_')}_gpt2.docx\")\n",
    "    else:\n",
    "        print(f\"Epicrisis generada en epicrisis_{nombre_paciente.replace(' ', '_')}_gpt2.docx\")\n",
    "        \n",
    "    doc = Document()\n",
    "    doc.add_heading(\"Epicrisis\", level=1)\n",
    "    doc.add_paragraph(f\"Paciente: {nombre_paciente}\", style='Normal')\n",
    "    doc.add_paragraph(texto_epicrisis, style='Normal')\n",
    "    \n",
    "    doc.save(nombre_archivo)"
   ]
  },
  {
   "cell_type": "code",
   "execution_count": 46,
   "id": "c382af77-d3bc-4f5a-8f2f-3fe295e51974",
   "metadata": {},
   "outputs": [
    {
     "name": "stdout",
     "output_type": "stream",
     "text": [
      "Epicrisis generada en epicrisis_Juan_Pérez_gpt2.docx\n"
     ]
    }
   ],
   "source": [
    "epicrisis_resultados = []\n",
    "\n",
    "for archivo in os.listdir(carpeta):\n",
    "    if archivo.endswith(\".docx\"):\n",
    "        ruta = os.path.join(carpeta, archivo)\n",
    "        texto = extraer_texto_docx(ruta)\n",
    "        campos = extraer_campos(texto)\n",
    "        campos[\"archivo\"] = archivo\n",
    "\n",
    "        # Generar epicrisis\n",
    "        epicrisis = generar_epicrisis_gpt2(texto)\n",
    "        campos[\"epicrisis\"] = epicrisis\n",
    "        epicrisis_resultados.append({\"paciente\": campos[\"paciente\"], \"epicrisis\": epicrisis})\n",
    "\n",
    "        # Guardar en archivo\n",
    "        guardar_epicrisis_docx_gpt2(campos[\"paciente\"], epicrisis)"
   ]
  },
  {
   "cell_type": "markdown",
   "id": "7c58c247-06d5-4a6c-884d-48eada84dfc6",
   "metadata": {},
   "source": [
    "#### microsoft/BioGPT-Large"
   ]
  },
  {
   "cell_type": "code",
   "execution_count": 55,
   "id": "2e8b1f0e-1d9b-4e6a-b2ab-521f4b4ff6c4",
   "metadata": {},
   "outputs": [],
   "source": [
    "from transformers import AutoTokenizer, AutoModelForCausalLM\n",
    "import torch\n",
    "\n",
    "model_name = \"microsoft/BioGPT-Large\"\n",
    "tokenizer = AutoTokenizer.from_pretrained(model_name)\n",
    "model = AutoModelForCausalLM.from_pretrained(model_name)"
   ]
  },
  {
   "cell_type": "code",
   "execution_count": 51,
   "id": "0dd6cf4c-5c34-433f-97f3-352be6cca8d9",
   "metadata": {},
   "outputs": [],
   "source": [
    "def generar_epicrisis_Bio(texto_informe, max_new_tokens=70):\n",
    "    prompt = f\"Resumen médico del siguiente informe clínico:\\n{texto_informe}\\n\\nEpicrisis:\"\n",
    "    inputs = tokenizer(prompt, return_tensors=\"pt\", truncation=True, max_length=1024)\n",
    "    outputs = model.generate(\n",
    "        **inputs,\n",
    "        max_new_tokens=max_new_tokens,\n",
    "        do_sample=True,\n",
    "        temperature=0.9,\n",
    "        top_k=40,\n",
    "        top_p=0.9,\n",
    "        pad_token_id=tokenizer.pad_token_id\n",
    "    )\n",
    "    return tokenizer.decode(outputs[0], skip_special_tokens=True)"
   ]
  },
  {
   "cell_type": "code",
   "execution_count": 52,
   "id": "46f3bc03-c431-49c6-aa7f-04fe6d3f753d",
   "metadata": {},
   "outputs": [],
   "source": [
    "def guardar_epicrisis_docx_Bio(nombre_paciente, texto_epicrisis):\n",
    "    nombre_archivo = f\"epicrisis_{nombre_paciente.replace(' ', '_')}_BioGPT.docx\"\n",
    "\n",
    "    if os.path.exists(nombre_archivo):\n",
    "        print(f\"Epicrisis generada en epicrisis_{nombre_paciente.replace(' ', '_')}_BioGPT.docx\")\n",
    "    else:\n",
    "        print(f\"Epicrisis generada en epicrisis_{nombre_paciente.replace(' ', '_')}_BioGPT.docx\")\n",
    "        \n",
    "    doc = Document()\n",
    "    doc.add_heading(\"Epicrisis\", level=1)\n",
    "    doc.add_paragraph(f\"Paciente: {nombre_paciente}\", style='Normal')\n",
    "    doc.add_paragraph(texto_epicrisis, style='Normal')\n",
    "    \n",
    "    doc.save(nombre_archivo)"
   ]
  },
  {
   "cell_type": "code",
   "execution_count": 53,
   "id": "8b05f076-3776-4e91-a441-be3f0b8728b0",
   "metadata": {},
   "outputs": [
    {
     "name": "stdout",
     "output_type": "stream",
     "text": [
      "Epicrisis generada en epicrisis_Juan_Pérez_BioGPT.docx\n"
     ]
    }
   ],
   "source": [
    "epicrisis_resultados = []\n",
    "\n",
    "for archivo in os.listdir(carpeta):\n",
    "    if archivo.endswith(\".docx\"):\n",
    "        ruta = os.path.join(carpeta, archivo)\n",
    "        texto = extraer_texto_docx(ruta)\n",
    "        campos = extraer_campos(texto)\n",
    "        campos[\"archivo\"] = archivo\n",
    "\n",
    "        # Generar epicrisis\n",
    "        epicrisis = generar_epicrisis_Bio(texto)\n",
    "        campos[\"epicrisis\"] = epicrisis\n",
    "        epicrisis_resultados.append({\"paciente\": campos[\"paciente\"], \"epicrisis\": epicrisis})\n",
    "\n",
    "        # Guardar en archivo\n",
    "        guardar_epicrisis_docx_Bio(campos[\"paciente\"], epicrisis)"
   ]
  },
  {
   "cell_type": "markdown",
   "id": "4702fd40-00c4-48f7-8444-4047f4252a40",
   "metadata": {},
   "source": [
    "#### stanford-crfm/BioMedLM"
   ]
  },
  {
   "cell_type": "code",
   "execution_count": null,
   "id": "894e313f-93d8-4e42-810e-4d74c1430dd3",
   "metadata": {},
   "outputs": [
    {
     "data": {
      "application/vnd.jupyter.widget-view+json": {
       "model_id": "b4b53723e15643cb892dfa624049c45e",
       "version_major": 2,
       "version_minor": 0
      },
      "text/plain": [
       "tokenizer_config.json:   0%|          | 0.00/267 [00:00<?, ?B/s]"
      ]
     },
     "metadata": {},
     "output_type": "display_data"
    },
    {
     "name": "stderr",
     "output_type": "stream",
     "text": [
      "C:\\Users\\SSCOQUIMBO\\AppData\\Local\\Programs\\Python\\Python313\\Lib\\site-packages\\huggingface_hub\\file_download.py:144: UserWarning: `huggingface_hub` cache-system uses symlinks by default to efficiently store duplicated files but your machine does not support them in C:\\Users\\SSCOQUIMBO\\.cache\\huggingface\\hub\\models--stanford-crfm--BioMedLM. Caching files will still work but in a degraded version that might require more space on your disk. This warning can be disabled by setting the `HF_HUB_DISABLE_SYMLINKS_WARNING` environment variable. For more details, see https://huggingface.co/docs/huggingface_hub/how-to-cache#limitations.\n",
      "To support symlinks on Windows, you either need to activate Developer Mode or to run Python as an administrator. In order to activate developer mode, see this article: https://docs.microsoft.com/en-us/windows/apps/get-started/enable-your-device-for-development\n",
      "  warnings.warn(message)\n"
     ]
    },
    {
     "data": {
      "application/vnd.jupyter.widget-view+json": {
       "model_id": "eadd396eb91742629a879ec325eff812",
       "version_major": 2,
       "version_minor": 0
      },
      "text/plain": [
       "vocab.json:   0%|          | 0.00/602k [00:00<?, ?B/s]"
      ]
     },
     "metadata": {},
     "output_type": "display_data"
    },
    {
     "data": {
      "application/vnd.jupyter.widget-view+json": {
       "model_id": "275f372fc260438a9d2bb1f1ead5f758",
       "version_major": 2,
       "version_minor": 0
      },
      "text/plain": [
       "merges.txt:   0%|          | 0.00/276k [00:00<?, ?B/s]"
      ]
     },
     "metadata": {},
     "output_type": "display_data"
    },
    {
     "data": {
      "application/vnd.jupyter.widget-view+json": {
       "model_id": "8653f87396604064a92386bb0efcc351",
       "version_major": 2,
       "version_minor": 0
      },
      "text/plain": [
       "tokenizer.json:   0%|          | 0.00/1.23M [00:00<?, ?B/s]"
      ]
     },
     "metadata": {},
     "output_type": "display_data"
    },
    {
     "data": {
      "application/vnd.jupyter.widget-view+json": {
       "model_id": "5d43e003d2164d808ad7e5a7dcb358fb",
       "version_major": 2,
       "version_minor": 0
      },
      "text/plain": [
       "config.json:   0%|          | 0.00/876 [00:00<?, ?B/s]"
      ]
     },
     "metadata": {},
     "output_type": "display_data"
    },
    {
     "data": {
      "application/vnd.jupyter.widget-view+json": {
       "model_id": "5bc3b75b6069479391ddc9b864c29446",
       "version_major": 2,
       "version_minor": 0
      },
      "text/plain": [
       "pytorch_model.bin:   0%|          | 0.00/10.7G [00:00<?, ?B/s]"
      ]
     },
     "metadata": {},
     "output_type": "display_data"
    }
   ],
   "source": [
    "from transformers import AutoTokenizer, AutoModelForCausalLM\n",
    "import torch\n",
    "\n",
    "model_name = \"stanford-crfm/BioMedLM\"\n",
    "tokenizer = AutoTokenizer.from_pretrained(model_name)\n",
    "model = AutoModelForCausalLM.from_pretrained(model_name)"
   ]
  },
  {
   "cell_type": "code",
   "execution_count": null,
   "id": "7af94e56-fd19-40b2-a0f2-2353dc92fcd7",
   "metadata": {},
   "outputs": [],
   "source": []
  },
  {
   "cell_type": "markdown",
   "id": "4c90bb19-ad1d-41f8-9b41-82b371065acd",
   "metadata": {},
   "source": [
    "#### clinical-t5-small"
   ]
  },
  {
   "cell_type": "code",
   "execution_count": null,
   "id": "7cba7203-64df-4e53-82ba-2aac380d5678",
   "metadata": {},
   "outputs": [],
   "source": [
    "from transformers import AutoTokenizer, AutoModelForSeq2SeqLM\n",
    "\n",
    "model_name = \"stanfordai/clinical-t5-small\"\n",
    "tokenizer = AutoTokenizer.from_pretrained(model_name)\n",
    "model = AutoModelForSeq2SeqLM.from_pretrained(model_name)"
   ]
  },
  {
   "cell_type": "markdown",
   "id": "6707c8ee-add9-4231-a06b-57897de2baa9",
   "metadata": {},
   "source": [
    "#### google/flan-t5-small"
   ]
  },
  {
   "cell_type": "markdown",
   "id": "da95a09e-5ec4-43f3-8402-58d4e7e33882",
   "metadata": {},
   "source": [
    "#### tiiuae/falcon-rw-1b"
   ]
  },
  {
   "cell_type": "code",
   "execution_count": null,
   "id": "0e78ca60-807c-451e-bcdb-afd51030bc68",
   "metadata": {},
   "outputs": [],
   "source": [
    "# Borrar csv al final"
   ]
  },
  {
   "cell_type": "code",
   "execution_count": null,
   "id": "e9a24491-602c-4653-ab1d-152b9d073f9b",
   "metadata": {},
   "outputs": [],
   "source": []
  }
 ],
 "metadata": {
  "kernelspec": {
   "display_name": "Python 3 (ipykernel)",
   "language": "python",
   "name": "python3"
  },
  "language_info": {
   "codemirror_mode": {
    "name": "ipython",
    "version": 3
   },
   "file_extension": ".py",
   "mimetype": "text/x-python",
   "name": "python",
   "nbconvert_exporter": "python",
   "pygments_lexer": "ipython3",
   "version": "3.13.3"
  }
 },
 "nbformat": 4,
 "nbformat_minor": 5
}
