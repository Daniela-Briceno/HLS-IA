{
 "cells": [
  {
   "cell_type": "markdown",
   "id": "d2aeae76-b04c-4a56-a3c1-d57e69a5db12",
   "metadata": {},
   "source": [
    "### Paso 1: .doc a .csv"
   ]
  },
  {
   "cell_type": "code",
   "execution_count": 1,
   "id": "072ef634-294c-4061-aba5-72e4804650c2",
   "metadata": {},
   "outputs": [],
   "source": [
    "import os\n",
    "import re\n",
    "import pandas as pd\n",
    "from docx import Document"
   ]
  },
  {
   "cell_type": "code",
   "execution_count": 2,
   "id": "56d39743-2cf0-4832-859f-f30e1cd6347b",
   "metadata": {},
   "outputs": [],
   "source": [
    "# Ruta a carpeta local con archivos .docx y donde se guardara el archivo .csv\n",
    "carpeta = \"Informes/\"\n",
    "archivo_csv = \"documentos_medicos.csv\"\n",
    "datos = []\n",
    "nuevos_datos = []"
   ]
  },
  {
   "cell_type": "code",
   "execution_count": 3,
   "id": "37ccb823-e775-4012-addb-be098bf673f5",
   "metadata": {},
   "outputs": [],
   "source": [
    "def extraer_texto_docx(archivo):\n",
    "    doc = Document(archivo)\n",
    "    texto = '\\n'.join([p.text for p in doc.paragraphs if p.text.strip() != \"\"])\n",
    "    return texto"
   ]
  },
  {
   "cell_type": "code",
   "execution_count": 4,
   "id": "2734ea31-4bf1-48fa-bc07-ded51e65c6d5",
   "metadata": {},
   "outputs": [],
   "source": [
    "def extraer_campos(texto):\n",
    "    paciente = re.search(r\"Paciente:\\s*(.*)\", texto)\n",
    "    edad = re.search(r\"Edad:\\s*(\\d+)\", texto)\n",
    "    fecha = re.search(r\"Fecha de Ingreso:\\s*(.*)\", texto)\n",
    "    dx = re.search(r\"Diagnóstico Presuntivo:\\s*(.*)\", texto)\n",
    "    meds = re.search(r\"Medicamentos Recetados:(.*?)(Instrucciones|Firma|$)\", texto, re.DOTALL)\n",
    "\n",
    "    return {\n",
    "        \"paciente\": paciente.group(1).strip() if paciente else \"\",\n",
    "        \"edad\": int(edad.group(1)) if edad else \"\",\n",
    "        \"fecha_ingreso\": fecha.group(1).strip() if fecha else \"\",\n",
    "        \"diagnostico\": dx.group(1).strip() if dx else \"\",\n",
    "        \"medicamentos\": meds.group(1).strip().replace(\"\\n\", \", \") if meds else \"\"\n",
    "    }"
   ]
  },
  {
   "cell_type": "code",
   "execution_count": 5,
   "id": "f990d9cb-1916-40b3-a970-0a45ba45f143",
   "metadata": {},
   "outputs": [],
   "source": [
    "# Cargar CSV existente si ya existe\n",
    "if os.path.exists(archivo_csv):\n",
    "    df_existente = pd.read_csv(archivo_csv, encoding='utf-8')\n",
    "else:\n",
    "    df_existente = pd.DataFrame()"
   ]
  },
  {
   "cell_type": "code",
   "execution_count": 6,
   "id": "44ec3b89-6a47-473a-ad99-e12d84ad2412",
   "metadata": {},
   "outputs": [
    {
     "name": "stdout",
     "output_type": "stream",
     "text": [
      "Paciente ya registrado: Juan Pérez — ignorado.\n",
      "No se encontraron pacientes nuevos.\n"
     ]
    }
   ],
   "source": [
    "for archivo in os.listdir(carpeta):\n",
    "    if archivo.endswith(\".docx\"):\n",
    "        ruta = os.path.join(carpeta, archivo)\n",
    "        texto = extraer_texto_docx(ruta)\n",
    "        campos = extraer_campos(texto)\n",
    "        campos[\"archivo\"] = archivo\n",
    "        datos.append(campos)\n",
    "\n",
    "        # Verificar si el paciente existe\n",
    "        if not df_existente.empty and campos[\"paciente\"] in df_existente[\"paciente\"].values:\n",
    "            print(f\"Paciente ya registrado: {campos['paciente']} — ignorado.\")\n",
    "        else:\n",
    "            nuevos_datos.append(campos)\n",
    "\n",
    "# Agregar y guardar\n",
    "if nuevos_datos:\n",
    "    df_nuevos = pd.DataFrame(nuevos_datos)\n",
    "    df_final = pd.concat([df_existente, df_nuevos], ignore_index=True)\n",
    "    df_final.to_csv(archivo_csv, index=False, encoding='utf-8')\n",
    "    print(\"Datos nuevos agregados al CSV.\")\n",
    "else:\n",
    "    print(\"No se encontraron pacientes nuevos.\")"
   ]
  },
  {
   "cell_type": "code",
   "execution_count": 7,
   "id": "c5b64fde-8ed4-45bd-82c8-0fd161c9e3da",
   "metadata": {},
   "outputs": [
    {
     "name": "stdout",
     "output_type": "stream",
     "text": [
      "     paciente  edad        fecha_ingreso                 diagnostico  \\\n",
      "0  Juan Pérez    45  15 de abril de 2025  Posible apendicitis aguda.   \n",
      "\n",
      "                                        medicamentos    archivo  \n",
      "0  Paracetamol 500mg: 1 tableta cada 8 horas para...  tets.docx  \n"
     ]
    }
   ],
   "source": [
    "# Guardar en CSV\n",
    "df = pd.DataFrame(datos)\n",
    "df.to_csv(\"documentos_medicos.csv\", index=False, encoding='utf-8')\n",
    "\n",
    "# Mostrar el contenido del CSV\n",
    "print(df.head())"
   ]
  },
  {
   "cell_type": "code",
   "execution_count": 8,
   "id": "a943c1c4-0d30-47f7-b4a1-8c23940d449e",
   "metadata": {},
   "outputs": [
    {
     "name": "stdout",
     "output_type": "stream",
     "text": [
      "     paciente  edad        fecha_ingreso                 diagnostico  \\\n",
      "0  Juan Pérez    45  15 de abril de 2025  Posible apendicitis aguda.   \n",
      "\n",
      "                                        medicamentos    archivo  \n",
      "0  Paracetamol 500mg: 1 tableta cada 8 horas para...  tets.docx  \n"
     ]
    }
   ],
   "source": [
    "# Leer el archivo CSV\n",
    "df = pd.read_csv(\"documentos_medicos.csv\", encoding='utf-8')\n",
    "\n",
    "# Mostrar las primeras filas\n",
    "print(df.head())"
   ]
  },
  {
   "cell_type": "markdown",
   "id": "c234c1f0-f431-4c60-b92b-f75e58ff3a80",
   "metadata": {},
   "source": [
    "### Paso 2: Entrenar el modelo"
   ]
  },
  {
   "cell_type": "code",
   "execution_count": null,
   "id": "e58ef629-53a0-47ea-af9e-2c606ba83d8c",
   "metadata": {},
   "outputs": [],
   "source": []
  },
  {
   "cell_type": "code",
   "execution_count": null,
   "id": "a8e2162c-f591-49b8-8d12-b0cb39ace502",
   "metadata": {},
   "outputs": [],
   "source": []
  },
  {
   "cell_type": "code",
   "execution_count": null,
   "id": "72343030-b019-4698-8d90-252f9cb2936e",
   "metadata": {},
   "outputs": [],
   "source": []
  }
 ],
 "metadata": {
  "kernelspec": {
   "display_name": "Python 3 (ipykernel)",
   "language": "python",
   "name": "python3"
  },
  "language_info": {
   "codemirror_mode": {
    "name": "ipython",
    "version": 3
   },
   "file_extension": ".py",
   "mimetype": "text/x-python",
   "name": "python",
   "nbconvert_exporter": "python",
   "pygments_lexer": "ipython3",
   "version": "3.13.3"
  }
 },
 "nbformat": 4,
 "nbformat_minor": 5
}
