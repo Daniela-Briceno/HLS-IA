{
 "cells": [
  {
   "cell_type": "markdown",
   "id": "d2aeae76-b04c-4a56-a3c1-d57e69a5db12",
   "metadata": {},
   "source": [
    "### Paso 1: .doc a .csv"
   ]
  },
  {
   "cell_type": "code",
   "execution_count": 2,
   "id": "072ef634-294c-4061-aba5-72e4804650c2",
   "metadata": {},
   "outputs": [],
   "source": [
    "import os\n",
    "import re\n",
    "from docx import Document\n",
    "import pandas as pd"
   ]
  },
  {
   "cell_type": "code",
   "execution_count": 3,
   "id": "56d39743-2cf0-4832-859f-f30e1cd6347b",
   "metadata": {},
   "outputs": [],
   "source": [
    "# Ruta a carpeta local con archivos .docx y donde se guardara el archivo .csv\n",
    "carpeta = \"Informes/\"\n",
    "archivo_csv = \"documentos_medicos.csv\"\n",
    "datos = []\n",
    "nuevos_datos = []"
   ]
  },
  {
   "cell_type": "code",
   "execution_count": 4,
   "id": "37ccb823-e775-4012-addb-be098bf673f5",
   "metadata": {},
   "outputs": [],
   "source": [
    "def extraer_texto_docx(archivo):\n",
    "    doc = Document(archivo)\n",
    "    texto = '\\n'.join([p.text for p in doc.paragraphs if p.text.strip() != \"\"])\n",
    "    return texto"
   ]
  },
  {
   "cell_type": "code",
   "execution_count": 5,
   "id": "2734ea31-4bf1-48fa-bc07-ded51e65c6d5",
   "metadata": {},
   "outputs": [],
   "source": [
    "def extraer_campos(texto):\n",
    "    paciente = re.search(r\"Paciente:\\s*(.*)\", texto)\n",
    "    edad = re.search(r\"Edad:\\s*(\\d+)\", texto)\n",
    "    fecha = re.search(r\"Fecha de Ingreso:\\s*(.*)\", texto)\n",
    "    dx = re.search(r\"Diagnóstico Presuntivo:\\s*(.*)\", texto)\n",
    "    meds = re.search(r\"Medicamentos Recetados:(.*?)(Instrucciones|Firma|$)\", texto, re.DOTALL)\n",
    "\n",
    "    return {\n",
    "        \"paciente\": paciente.group(1).strip() if paciente else \"\",\n",
    "        \"edad\": int(edad.group(1)) if edad else \"\",\n",
    "        \"fecha_ingreso\": fecha.group(1).strip() if fecha else \"\",\n",
    "        \"diagnostico\": dx.group(1).strip() if dx else \"\",\n",
    "        \"medicamentos\": meds.group(1).strip().replace(\"\\n\", \", \") if meds else \"\"\n",
    "    }"
   ]
  },
  {
   "cell_type": "code",
   "execution_count": 6,
   "id": "f990d9cb-1916-40b3-a970-0a45ba45f143",
   "metadata": {},
   "outputs": [],
   "source": [
    "# Cargar CSV existente si ya existe\n",
    "if os.path.exists(archivo_csv):\n",
    "    df_existente = pd.read_csv(archivo_csv, encoding='utf-8')\n",
    "else:\n",
    "    df_existente = pd.DataFrame()"
   ]
  },
  {
   "cell_type": "code",
   "execution_count": 7,
   "id": "44ec3b89-6a47-473a-ad99-e12d84ad2412",
   "metadata": {},
   "outputs": [
    {
     "name": "stdout",
     "output_type": "stream",
     "text": [
      "Paciente ya registrado: Juan Pérez — ignorado.\n",
      "No se encontraron pacientes nuevos.\n"
     ]
    }
   ],
   "source": [
    "for archivo in os.listdir(carpeta):\n",
    "    if archivo.endswith(\".docx\"):\n",
    "        ruta = os.path.join(carpeta, archivo)\n",
    "        texto = extraer_texto_docx(ruta)\n",
    "        campos = extraer_campos(texto)\n",
    "        campos[\"archivo\"] = archivo\n",
    "        datos.append(campos)\n",
    "\n",
    "        # Verificar si el paciente existe\n",
    "        if not df_existente.empty and campos[\"paciente\"] in df_existente[\"paciente\"].values:\n",
    "            print(f\"Paciente ya registrado: {campos['paciente']} — ignorado.\")\n",
    "        else:\n",
    "            nuevos_datos.append(campos)\n",
    "\n",
    "# Agregar y guardar\n",
    "if nuevos_datos:\n",
    "    df_nuevos = pd.DataFrame(nuevos_datos)\n",
    "    df_final = pd.concat([df_existente, df_nuevos], ignore_index=True)\n",
    "    df_final.to_csv(archivo_csv, index=False, encoding='utf-8')\n",
    "    print(\"Datos nuevos agregados al CSV.\")\n",
    "else:\n",
    "    print(\"No se encontraron pacientes nuevos.\")"
   ]
  },
  {
   "cell_type": "code",
   "execution_count": 8,
   "id": "c5b64fde-8ed4-45bd-82c8-0fd161c9e3da",
   "metadata": {},
   "outputs": [
    {
     "name": "stdout",
     "output_type": "stream",
     "text": [
      "     paciente  edad        fecha_ingreso                 diagnostico  \\\n",
      "0  Juan Pérez    45  15 de abril de 2025  Posible apendicitis aguda.   \n",
      "\n",
      "                                        medicamentos    archivo  \n",
      "0  Paracetamol 500mg: 1 tableta cada 8 horas para...  tets.docx  \n"
     ]
    }
   ],
   "source": [
    "# Guardar en CSV\n",
    "df = pd.DataFrame(datos)\n",
    "df.to_csv(\"documentos_medicos.csv\", index=False, encoding='utf-8')\n",
    "\n",
    "# Mostrar el contenido del CSV\n",
    "print(df.head())"
   ]
  },
  {
   "cell_type": "code",
   "execution_count": 9,
   "id": "a943c1c4-0d30-47f7-b4a1-8c23940d449e",
   "metadata": {},
   "outputs": [
    {
     "name": "stdout",
     "output_type": "stream",
     "text": [
      "     paciente  edad        fecha_ingreso                 diagnostico  \\\n",
      "0  Juan Pérez    45  15 de abril de 2025  Posible apendicitis aguda.   \n",
      "\n",
      "                                        medicamentos    archivo  \n",
      "0  Paracetamol 500mg: 1 tableta cada 8 horas para...  tets.docx  \n"
     ]
    }
   ],
   "source": [
    "# Leer el archivo CSV\n",
    "df = pd.read_csv(\"documentos_medicos.csv\", encoding='utf-8')\n",
    "\n",
    "# Mostrar las primeras filas\n",
    "print(df.head())"
   ]
  },
  {
   "cell_type": "markdown",
   "id": "c234c1f0-f431-4c60-b92b-f75e58ff3a80",
   "metadata": {},
   "source": [
    "### Paso 2: Entrenar modelos"
   ]
  },
  {
   "cell_type": "markdown",
   "id": "289a67e5-ee57-4cc0-87d0-6b6288840d00",
   "metadata": {},
   "source": [
    "#### Modelo GPT2"
   ]
  },
  {
   "cell_type": "code",
   "execution_count": 10,
   "id": "83699896-864e-4ddc-ba05-34e7740694cd",
   "metadata": {},
   "outputs": [],
   "source": [
    "from transformers import GPT2LMHeadModel, GPT2Tokenizer\n",
    "import torch\n",
    "\n",
    "# Cargar el modelo y el tokenizer de GPT-2\n",
    "model_name = \"gpt2\"\n",
    "tokenizer = GPT2Tokenizer.from_pretrained(model_name)\n",
    "model = GPT2LMHeadModel.from_pretrained(model_name)\n",
    "\n",
    "# Ajustar el token de padding\n",
    "tokenizer.pad_token = tokenizer.eos_token\n",
    "model.config.pad_token_id = model.config.eos_token_id"
   ]
  },
  {
   "cell_type": "code",
   "execution_count": 11,
   "id": "e48c52ca-6f07-42c0-9acf-69a5cf3b21fa",
   "metadata": {},
   "outputs": [],
   "source": [
    "def generar_epicrisis_gpt2(texto_informe, max_new_tokens=200):\n",
    "    prompt = f\"Resumen médico del siguiente informe clínico:\\n{texto_informe}\\n\\nEpicrisis:\"\n",
    "    inputs = tokenizer(prompt, return_tensors=\"pt\", truncation=True, max_length=1024)\n",
    "    outputs = model.generate(\n",
    "        **inputs,\n",
    "        max_new_tokens=max_new_tokens,\n",
    "        num_beams=4,\n",
    "        no_repeat_ngram_size=2,\n",
    "        early_stopping=True,\n",
    "        pad_token_id=tokenizer.pad_token_id\n",
    "    )\n",
    "    return tokenizer.decode(outputs[0], skip_special_tokens=True)"
   ]
  },
  {
   "cell_type": "code",
   "execution_count": 25,
   "id": "7cff9842-4afe-48b8-9bbe-ae1814579052",
   "metadata": {},
   "outputs": [],
   "source": [
    "def guardar_epicrisis_docx(nombre_paciente, texto_epicrisis):\n",
    "    nombre_archivo = f\"epicrisis_{nombre_paciente.replace(' ', '_')}_gpt2.docx\"\n",
    "\n",
    "    if os.path.exists(nombre_archivo):\n",
    "        print(\"\")\n",
    "    else:\n",
    "        print(f\"Epicrisis generada en epicrisis_{nombre_paciente.replace(' ', '_')}_gpt2.docx\")\n",
    "        \n",
    "    doc = Document()\n",
    "    doc.add_heading(\"Epicrisis\", level=1)\n",
    "    doc.add_paragraph(f\"Paciente: {nombre_paciente}\", style='Normal')\n",
    "    doc.add_paragraph(texto_epicrisis, style='Normal')\n",
    "    \n",
    "    doc.save(nombre_archivo)"
   ]
  },
  {
   "cell_type": "code",
   "execution_count": 26,
   "id": "c382af77-d3bc-4f5a-8f2f-3fe295e51974",
   "metadata": {},
   "outputs": [
    {
     "name": "stdout",
     "output_type": "stream",
     "text": [
      "Epicrisis generada en epicrisis_Juan_Pérez_gpt2.docx\n"
     ]
    }
   ],
   "source": [
    "epicrisis_resultados = []\n",
    "\n",
    "for archivo in os.listdir(carpeta):\n",
    "    if archivo.endswith(\".docx\"):\n",
    "        ruta = os.path.join(carpeta, archivo)\n",
    "        texto = extraer_texto_docx(ruta)\n",
    "        campos = extraer_campos(texto)\n",
    "        campos[\"archivo\"] = archivo\n",
    "\n",
    "        # Generar epicrisis\n",
    "        epicrisis = generar_epicrisis_gpt2(texto)\n",
    "        campos[\"epicrisis\"] = epicrisis\n",
    "        epicrisis_resultados.append({\"paciente\": campos[\"paciente\"], \"epicrisis\": epicrisis})\n",
    "\n",
    "        # Guardar en archivo\n",
    "        guardar_epicrisis_docx(campos[\"paciente\"], epicrisis)"
   ]
  },
  {
   "cell_type": "markdown",
   "id": "7c58c247-06d5-4a6c-884d-48eada84dfc6",
   "metadata": {},
   "source": [
    "#### microsoft/BioGPT-Large"
   ]
  },
  {
   "cell_type": "code",
   "execution_count": null,
   "id": "2e8b1f0e-1d9b-4e6a-b2ab-521f4b4ff6c4",
   "metadata": {},
   "outputs": [],
   "source": [
    "from transformers import AutoTokenizer, AutoModelForCausalLM\n",
    "\n",
    "model_name = \"microsoft/BioGPT-Large\"\n",
    "tokenizer = AutoTokenizer.from_pretrained(model_name)\n",
    "model = AutoModelForCausalLM.from_pretrained(model_name)"
   ]
  },
  {
   "cell_type": "code",
   "execution_count": null,
   "id": "76af7430-cef9-4c88-a478-18b4e418a231",
   "metadata": {},
   "outputs": [],
   "source": []
  },
  {
   "cell_type": "code",
   "execution_count": null,
   "id": "a091dc0e-da31-4eba-b5be-7e557c78ec21",
   "metadata": {},
   "outputs": [],
   "source": []
  },
  {
   "cell_type": "code",
   "execution_count": null,
   "id": "46f3bc03-c431-49c6-aa7f-04fe6d3f753d",
   "metadata": {},
   "outputs": [],
   "source": []
  },
  {
   "cell_type": "markdown",
   "id": "4702fd40-00c4-48f7-8444-4047f4252a40",
   "metadata": {},
   "source": [
    "#### stanford-biomed/biomedgpt-1.3b"
   ]
  },
  {
   "cell_type": "code",
   "execution_count": null,
   "id": "894e313f-93d8-4e42-810e-4d74c1430dd3",
   "metadata": {},
   "outputs": [],
   "source": [
    "model_name = \"stanford-biomed/biomedgpt-1.3b\"\n",
    "tokenizer = AutoTokenizer.from_pretrained(model_name)\n",
    "model = AutoModelForCausalLM.from_pretrained(model_name)"
   ]
  },
  {
   "cell_type": "code",
   "execution_count": null,
   "id": "0e78ca60-807c-451e-bcdb-afd51030bc68",
   "metadata": {},
   "outputs": [],
   "source": [
    "# Borrar csv al final"
   ]
  },
  {
   "cell_type": "code",
   "execution_count": null,
   "id": "e9a24491-602c-4653-ab1d-152b9d073f9b",
   "metadata": {},
   "outputs": [],
   "source": []
  }
 ],
 "metadata": {
  "kernelspec": {
   "display_name": "Python 3 (ipykernel)",
   "language": "python",
   "name": "python3"
  },
  "language_info": {
   "codemirror_mode": {
    "name": "ipython",
    "version": 3
   },
   "file_extension": ".py",
   "mimetype": "text/x-python",
   "name": "python",
   "nbconvert_exporter": "python",
   "pygments_lexer": "ipython3",
   "version": "3.13.3"
  }
 },
 "nbformat": 4,
 "nbformat_minor": 5
}
