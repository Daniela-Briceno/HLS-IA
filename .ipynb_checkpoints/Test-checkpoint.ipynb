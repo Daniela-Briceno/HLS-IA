{
 "cells": [
  {
   "cell_type": "markdown",
   "id": "d2aeae76-b04c-4a56-a3c1-d57e69a5db12",
   "metadata": {},
   "source": [
    "### Paso 1: .doc a .csv"
   ]
  },
  {
   "cell_type": "code",
   "execution_count": 2,
   "id": "072ef634-294c-4061-aba5-72e4804650c2",
   "metadata": {},
   "outputs": [],
   "source": [
    "import os\n",
    "import re\n",
    "from docx import Document\n",
    "import pandas as pd"
   ]
  },
  {
   "cell_type": "code",
   "execution_count": 3,
   "id": "56d39743-2cf0-4832-859f-f30e1cd6347b",
   "metadata": {},
   "outputs": [],
   "source": [
    "# Ruta a carpeta local con archivos .docx y donde se guardara el archivo .csv\n",
    "carpeta = \"Informes/\"\n",
    "archivo_csv = \"documentos_medicos.csv\"\n",
    "datos = []\n",
    "nuevos_datos = []"
   ]
  },
  {
   "cell_type": "code",
   "execution_count": 4,
   "id": "37ccb823-e775-4012-addb-be098bf673f5",
   "metadata": {},
   "outputs": [],
   "source": [
    "def extraer_texto_docx(archivo):\n",
    "    doc = Document(archivo)\n",
    "    texto = '\\n'.join([p.text for p in doc.paragraphs if p.text.strip() != \"\"])\n",
    "    return texto"
   ]
  },
  {
   "cell_type": "code",
   "execution_count": 5,
   "id": "2734ea31-4bf1-48fa-bc07-ded51e65c6d5",
   "metadata": {},
   "outputs": [],
   "source": [
    "def extraer_campos(texto):\n",
    "    paciente = re.search(r\"Paciente:\\s*(.*)\", texto)\n",
    "    edad = re.search(r\"Edad:\\s*(\\d+)\", texto)\n",
    "    fecha = re.search(r\"Fecha de Ingreso:\\s*(.*)\", texto)\n",
    "    dx = re.search(r\"Diagnóstico Presuntivo:\\s*(.*)\", texto)\n",
    "    meds = re.search(r\"Medicamentos Recetados:(.*?)(Instrucciones|Firma|$)\", texto, re.DOTALL)\n",
    "\n",
    "    return {\n",
    "        \"paciente\": paciente.group(1).strip() if paciente else \"\",\n",
    "        \"edad\": int(edad.group(1)) if edad else \"\",\n",
    "        \"fecha_ingreso\": fecha.group(1).strip() if fecha else \"\",\n",
    "        \"diagnostico\": dx.group(1).strip() if dx else \"\",\n",
    "        \"medicamentos\": meds.group(1).strip().replace(\"\\n\", \", \") if meds else \"\"\n",
    "    }"
   ]
  },
  {
   "cell_type": "code",
   "execution_count": 6,
   "id": "f990d9cb-1916-40b3-a970-0a45ba45f143",
   "metadata": {},
   "outputs": [],
   "source": [
    "# Cargar CSV existente si ya existe\n",
    "if os.path.exists(archivo_csv):\n",
    "    df_existente = pd.read_csv(archivo_csv, encoding='utf-8')\n",
    "else:\n",
    "    df_existente = pd.DataFrame()"
   ]
  },
  {
   "cell_type": "code",
   "execution_count": 7,
   "id": "44ec3b89-6a47-473a-ad99-e12d84ad2412",
   "metadata": {},
   "outputs": [
    {
     "name": "stdout",
     "output_type": "stream",
     "text": [
      "Paciente ya registrado: Juan Pérez — ignorado.\n",
      "No se encontraron pacientes nuevos.\n"
     ]
    }
   ],
   "source": [
    "for archivo in os.listdir(carpeta):\n",
    "    if archivo.endswith(\".docx\"):\n",
    "        ruta = os.path.join(carpeta, archivo)\n",
    "        texto = extraer_texto_docx(ruta)\n",
    "        campos = extraer_campos(texto)\n",
    "        campos[\"archivo\"] = archivo\n",
    "        datos.append(campos)\n",
    "\n",
    "        # Verificar si el paciente existe\n",
    "        if not df_existente.empty and campos[\"paciente\"] in df_existente[\"paciente\"].values:\n",
    "            print(f\"Paciente ya registrado: {campos['paciente']} — ignorado.\")\n",
    "        else:\n",
    "            nuevos_datos.append(campos)\n",
    "\n",
    "# Agregar y guardar\n",
    "if nuevos_datos:\n",
    "    df_nuevos = pd.DataFrame(nuevos_datos)\n",
    "    df_final = pd.concat([df_existente, df_nuevos], ignore_index=True)\n",
    "    df_final.to_csv(archivo_csv, index=False, encoding='utf-8')\n",
    "    print(\"Datos nuevos agregados al CSV.\")\n",
    "else:\n",
    "    print(\"No se encontraron pacientes nuevos.\")"
   ]
  },
  {
   "cell_type": "code",
   "execution_count": 8,
   "id": "c5b64fde-8ed4-45bd-82c8-0fd161c9e3da",
   "metadata": {},
   "outputs": [
    {
     "name": "stdout",
     "output_type": "stream",
     "text": [
      "     paciente  edad        fecha_ingreso                 diagnostico  \\\n",
      "0  Juan Pérez    45  15 de abril de 2025  Posible apendicitis aguda.   \n",
      "\n",
      "                                        medicamentos    archivo  \n",
      "0  Paracetamol 500mg: 1 tableta cada 8 horas para...  tets.docx  \n"
     ]
    }
   ],
   "source": [
    "# Guardar en CSV\n",
    "df = pd.DataFrame(datos)\n",
    "df.to_csv(\"documentos_medicos.csv\", index=False, encoding='utf-8')\n",
    "\n",
    "# Mostrar el contenido del CSV\n",
    "print(df.head())"
   ]
  },
  {
   "cell_type": "code",
   "execution_count": 9,
   "id": "a943c1c4-0d30-47f7-b4a1-8c23940d449e",
   "metadata": {},
   "outputs": [
    {
     "name": "stdout",
     "output_type": "stream",
     "text": [
      "     paciente  edad        fecha_ingreso                 diagnostico  \\\n",
      "0  Juan Pérez    45  15 de abril de 2025  Posible apendicitis aguda.   \n",
      "\n",
      "                                        medicamentos    archivo  \n",
      "0  Paracetamol 500mg: 1 tableta cada 8 horas para...  tets.docx  \n"
     ]
    }
   ],
   "source": [
    "# Leer el archivo CSV\n",
    "df = pd.read_csv(\"documentos_medicos.csv\", encoding='utf-8')\n",
    "\n",
    "# Mostrar las primeras filas\n",
    "print(df.head())"
   ]
  },
  {
   "cell_type": "markdown",
   "id": "e09a7a99-e672-4646-a982-dbca689a9611",
   "metadata": {},
   "source": [
    "### Paso 2: Generacion Epicrisis"
   ]
  },
  {
   "cell_type": "code",
   "execution_count": 40,
   "id": "e48c52ca-6f07-42c0-9acf-69a5cf3b21fa",
   "metadata": {},
   "outputs": [],
   "source": [
    "def generar_epicrisis(texto_informe, max_new_tokens=200):\n",
    "    prompt = f\"Resumen médico del siguiente informe clínico:\\n{texto_informe}\\n\\nEpicrisis:\"\n",
    "    inputs = tokenizer(prompt, return_tensors=\"pt\", truncation=True, max_length=1024)\n",
    "    outputs = model.generate(\n",
    "        **inputs,\n",
    "        max_new_tokens=max_new_tokens,\n",
    "        num_beams=4,\n",
    "        no_repeat_ngram_size=2,\n",
    "        early_stopping=True,\n",
    "        pad_token_id=tokenizer.pad_token_id\n",
    "    )\n",
    "    return tokenizer.decode(outputs[0], skip_special_tokens=True)"
   ]
  },
  {
   "cell_type": "markdown",
   "id": "c234c1f0-f431-4c60-b92b-f75e58ff3a80",
   "metadata": {},
   "source": [
    "### Paso 3: Entrenar modelos"
   ]
  },
  {
   "cell_type": "markdown",
   "id": "289a67e5-ee57-4cc0-87d0-6b6288840d00",
   "metadata": {},
   "source": [
    "#### Modelo GPT2"
   ]
  },
  {
   "cell_type": "code",
   "execution_count": 45,
   "id": "83699896-864e-4ddc-ba05-34e7740694cd",
   "metadata": {},
   "outputs": [],
   "source": [
    "from transformers import GPT2LMHeadModel, GPT2Tokenizer\n",
    "import torch\n",
    "\n",
    "# Cargar el modelo y el tokenizer de GPT-2\n",
    "model_name = \"gpt2\"\n",
    "tokenizer = GPT2Tokenizer.from_pretrained(model_name)\n",
    "model = GPT2LMHeadModel.from_pretrained(model_name)\n",
    "\n",
    "# Ajustar el token de padding\n",
    "tokenizer.pad_token = tokenizer.eos_token\n",
    "model.config.pad_token_id = model.config.eos_token_id"
   ]
  },
  {
   "cell_type": "code",
   "execution_count": 48,
   "id": "7cff9842-4afe-48b8-9bbe-ae1814579052",
   "metadata": {},
   "outputs": [],
   "source": [
    "def guardar_epicrisis_docx(nombre_paciente, texto_epicrisis):\n",
    "    nombre_archivo = f\"epicrisis_{nombre_paciente.replace(' ', '_')}_gpt2.docx\"\n",
    "\n",
    "    if os.path.exists(nombre_archivo):\n",
    "        print(f\"Epicrisis generada en epicrisis_{nombre_paciente.replace(' ', '_')}_gpt2.docx\")\n",
    "    else:\n",
    "        print(f\"Epicrisis generada en epicrisis_{nombre_paciente.replace(' ', '_')}_gpt2.docx\")\n",
    "        \n",
    "    doc = Document()\n",
    "    doc.add_heading(\"Epicrisis\", level=1)\n",
    "    doc.add_paragraph(f\"Paciente: {nombre_paciente}\", style='Normal')\n",
    "    doc.add_paragraph(texto_epicrisis, style='Normal')\n",
    "    \n",
    "    doc.save(nombre_archivo)"
   ]
  },
  {
   "cell_type": "code",
   "execution_count": 49,
   "id": "c382af77-d3bc-4f5a-8f2f-3fe295e51974",
   "metadata": {},
   "outputs": [
    {
     "name": "stdout",
     "output_type": "stream",
     "text": [
      "Epicrisis generada en epicrisis_Juan_Pérez_gpt2.docx\n"
     ]
    }
   ],
   "source": [
    "epicrisis_resultados = []\n",
    "\n",
    "for archivo in os.listdir(carpeta):\n",
    "    if archivo.endswith(\".docx\"):\n",
    "        ruta = os.path.join(carpeta, archivo)\n",
    "        texto = extraer_texto_docx(ruta)\n",
    "        campos = extraer_campos(texto)\n",
    "        campos[\"archivo\"] = archivo\n",
    "\n",
    "        # Generar epicrisis\n",
    "        epicrisis = generar_epicrisis(texto)\n",
    "        campos[\"epicrisis\"] = epicrisis\n",
    "        epicrisis_resultados.append({\"paciente\": campos[\"paciente\"], \"epicrisis\": epicrisis})\n",
    "\n",
    "        # Guardar en archivo\n",
    "        guardar_epicrisis_docx(campos[\"paciente\"], epicrisis)"
   ]
  },
  {
   "cell_type": "markdown",
   "id": "7c58c247-06d5-4a6c-884d-48eada84dfc6",
   "metadata": {},
   "source": [
    "#### microsoft/BioGPT-Large"
   ]
  },
  {
   "cell_type": "code",
   "execution_count": 50,
   "id": "2e8b1f0e-1d9b-4e6a-b2ab-521f4b4ff6c4",
   "metadata": {},
   "outputs": [],
   "source": [
    "from transformers import AutoTokenizer, AutoModelForCausalLM\n",
    "\n",
    "model_name = \"microsoft/BioGPT-Large\"\n",
    "tokenizer = AutoTokenizer.from_pretrained(model_name)\n",
    "model = AutoModelForCausalLM.from_pretrained(model_name)"
   ]
  },
  {
   "cell_type": "code",
   "execution_count": 51,
   "id": "46f3bc03-c431-49c6-aa7f-04fe6d3f753d",
   "metadata": {},
   "outputs": [],
   "source": [
    "def guardar_epicrisis_docxb(nombre_paciente, texto_epicrisis):\n",
    "    nombre_archivo = f\"epicrisis_{nombre_paciente.replace(' ', '_')}_BioGPT.docx\"\n",
    "\n",
    "    if os.path.exists(nombre_archivo):\n",
    "        print(f\"Epicrisis generada en epicrisis_{nombre_paciente.replace(' ', '_')}_BioGPT.docx\")\n",
    "    else:\n",
    "        print(f\"Epicrisis generada en epicrisis_{nombre_paciente.replace(' ', '_')}_BioGPT.docx\")\n",
    "        \n",
    "    doc = Document()\n",
    "    doc.add_heading(\"Epicrisis\", level=1)\n",
    "    doc.add_paragraph(f\"Paciente: {nombre_paciente}\", style='Normal')\n",
    "    doc.add_paragraph(texto_epicrisis, style='Normal')\n",
    "    \n",
    "    doc.save(nombre_archivo)"
   ]
  },
  {
   "cell_type": "code",
   "execution_count": 52,
   "id": "8b05f076-3776-4e91-a441-be3f0b8728b0",
   "metadata": {},
   "outputs": [
    {
     "ename": "KeyboardInterrupt",
     "evalue": "",
     "output_type": "error",
     "traceback": [
      "\u001b[31m---------------------------------------------------------------------------\u001b[39m",
      "\u001b[31mKeyboardInterrupt\u001b[39m                         Traceback (most recent call last)",
      "\u001b[36mCell\u001b[39m\u001b[36m \u001b[39m\u001b[32mIn[52]\u001b[39m\u001b[32m, line 11\u001b[39m\n\u001b[32m      8\u001b[39m campos[\u001b[33m\"\u001b[39m\u001b[33marchivo\u001b[39m\u001b[33m\"\u001b[39m] = archivo\n\u001b[32m     10\u001b[39m \u001b[38;5;66;03m# Generar epicrisis\u001b[39;00m\n\u001b[32m---> \u001b[39m\u001b[32m11\u001b[39m epicrisis = \u001b[43mgenerar_epicrisis\u001b[49m\u001b[43m(\u001b[49m\u001b[43mtexto\u001b[49m\u001b[43m)\u001b[49m\n\u001b[32m     12\u001b[39m campos[\u001b[33m\"\u001b[39m\u001b[33mepicrisis\u001b[39m\u001b[33m\"\u001b[39m] = epicrisis\n\u001b[32m     13\u001b[39m epicrisis_resultados.append({\u001b[33m\"\u001b[39m\u001b[33mpaciente\u001b[39m\u001b[33m\"\u001b[39m: campos[\u001b[33m\"\u001b[39m\u001b[33mpaciente\u001b[39m\u001b[33m\"\u001b[39m], \u001b[33m\"\u001b[39m\u001b[33mepicrisis\u001b[39m\u001b[33m\"\u001b[39m: epicrisis})\n",
      "\u001b[36mCell\u001b[39m\u001b[36m \u001b[39m\u001b[32mIn[40]\u001b[39m\u001b[32m, line 4\u001b[39m, in \u001b[36mgenerar_epicrisis\u001b[39m\u001b[34m(texto_informe, max_new_tokens)\u001b[39m\n\u001b[32m      2\u001b[39m prompt = \u001b[33mf\u001b[39m\u001b[33m\"\u001b[39m\u001b[33mResumen médico del siguiente informe clínico:\u001b[39m\u001b[38;5;130;01m\\n\u001b[39;00m\u001b[38;5;132;01m{\u001b[39;00mtexto_informe\u001b[38;5;132;01m}\u001b[39;00m\u001b[38;5;130;01m\\n\u001b[39;00m\u001b[38;5;130;01m\\n\u001b[39;00m\u001b[33mEpicrisis:\u001b[39m\u001b[33m\"\u001b[39m\n\u001b[32m      3\u001b[39m inputs = tokenizer(prompt, return_tensors=\u001b[33m\"\u001b[39m\u001b[33mpt\u001b[39m\u001b[33m\"\u001b[39m, truncation=\u001b[38;5;28;01mTrue\u001b[39;00m, max_length=\u001b[32m1024\u001b[39m)\n\u001b[32m----> \u001b[39m\u001b[32m4\u001b[39m outputs = \u001b[43mmodel\u001b[49m\u001b[43m.\u001b[49m\u001b[43mgenerate\u001b[49m\u001b[43m(\u001b[49m\n\u001b[32m      5\u001b[39m \u001b[43m    \u001b[49m\u001b[43m*\u001b[49m\u001b[43m*\u001b[49m\u001b[43minputs\u001b[49m\u001b[43m,\u001b[49m\n\u001b[32m      6\u001b[39m \u001b[43m    \u001b[49m\u001b[43mmax_new_tokens\u001b[49m\u001b[43m=\u001b[49m\u001b[43mmax_new_tokens\u001b[49m\u001b[43m,\u001b[49m\n\u001b[32m      7\u001b[39m \u001b[43m    \u001b[49m\u001b[43mnum_beams\u001b[49m\u001b[43m=\u001b[49m\u001b[32;43m4\u001b[39;49m\u001b[43m,\u001b[49m\n\u001b[32m      8\u001b[39m \u001b[43m    \u001b[49m\u001b[43mno_repeat_ngram_size\u001b[49m\u001b[43m=\u001b[49m\u001b[32;43m2\u001b[39;49m\u001b[43m,\u001b[49m\n\u001b[32m      9\u001b[39m \u001b[43m    \u001b[49m\u001b[43mearly_stopping\u001b[49m\u001b[43m=\u001b[49m\u001b[38;5;28;43;01mTrue\u001b[39;49;00m\u001b[43m,\u001b[49m\n\u001b[32m     10\u001b[39m \u001b[43m    \u001b[49m\u001b[43mpad_token_id\u001b[49m\u001b[43m=\u001b[49m\u001b[43mtokenizer\u001b[49m\u001b[43m.\u001b[49m\u001b[43mpad_token_id\u001b[49m\n\u001b[32m     11\u001b[39m \u001b[43m\u001b[49m\u001b[43m)\u001b[49m\n\u001b[32m     12\u001b[39m \u001b[38;5;28;01mreturn\u001b[39;00m tokenizer.decode(outputs[\u001b[32m0\u001b[39m], skip_special_tokens=\u001b[38;5;28;01mTrue\u001b[39;00m)\n",
      "\u001b[36mFile \u001b[39m\u001b[32m~\\AppData\\Local\\Programs\\Python\\Python313\\Lib\\site-packages\\torch\\utils\\_contextlib.py:116\u001b[39m, in \u001b[36mcontext_decorator.<locals>.decorate_context\u001b[39m\u001b[34m(*args, **kwargs)\u001b[39m\n\u001b[32m    113\u001b[39m \u001b[38;5;129m@functools\u001b[39m.wraps(func)\n\u001b[32m    114\u001b[39m \u001b[38;5;28;01mdef\u001b[39;00m\u001b[38;5;250m \u001b[39m\u001b[34mdecorate_context\u001b[39m(*args, **kwargs):\n\u001b[32m    115\u001b[39m     \u001b[38;5;28;01mwith\u001b[39;00m ctx_factory():\n\u001b[32m--> \u001b[39m\u001b[32m116\u001b[39m         \u001b[38;5;28;01mreturn\u001b[39;00m \u001b[43mfunc\u001b[49m\u001b[43m(\u001b[49m\u001b[43m*\u001b[49m\u001b[43margs\u001b[49m\u001b[43m,\u001b[49m\u001b[43m \u001b[49m\u001b[43m*\u001b[49m\u001b[43m*\u001b[49m\u001b[43mkwargs\u001b[49m\u001b[43m)\u001b[49m\n",
      "\u001b[36mFile \u001b[39m\u001b[32m~\\AppData\\Local\\Programs\\Python\\Python313\\Lib\\site-packages\\transformers\\generation\\utils.py:2484\u001b[39m, in \u001b[36mGenerationMixin.generate\u001b[39m\u001b[34m(self, inputs, generation_config, logits_processor, stopping_criteria, prefix_allowed_tokens_fn, synced_gpus, assistant_model, streamer, negative_prompt_ids, negative_prompt_attention_mask, use_model_defaults, **kwargs)\u001b[39m\n\u001b[32m   2477\u001b[39m     input_ids, model_kwargs = \u001b[38;5;28mself\u001b[39m._expand_inputs_for_generation(\n\u001b[32m   2478\u001b[39m         input_ids=input_ids,\n\u001b[32m   2479\u001b[39m         expand_size=generation_config.num_beams,\n\u001b[32m   2480\u001b[39m         is_encoder_decoder=\u001b[38;5;28mself\u001b[39m.config.is_encoder_decoder,\n\u001b[32m   2481\u001b[39m         **model_kwargs,\n\u001b[32m   2482\u001b[39m     )\n\u001b[32m   2483\u001b[39m     \u001b[38;5;66;03m# 12. run beam sample\u001b[39;00m\n\u001b[32m-> \u001b[39m\u001b[32m2484\u001b[39m     result = \u001b[38;5;28;43mself\u001b[39;49m\u001b[43m.\u001b[49m\u001b[43m_beam_search\u001b[49m\u001b[43m(\u001b[49m\n\u001b[32m   2485\u001b[39m \u001b[43m        \u001b[49m\u001b[43minput_ids\u001b[49m\u001b[43m,\u001b[49m\n\u001b[32m   2486\u001b[39m \u001b[43m        \u001b[49m\u001b[43mlogits_processor\u001b[49m\u001b[43m=\u001b[49m\u001b[43mprepared_logits_processor\u001b[49m\u001b[43m,\u001b[49m\n\u001b[32m   2487\u001b[39m \u001b[43m        \u001b[49m\u001b[43mstopping_criteria\u001b[49m\u001b[43m=\u001b[49m\u001b[43mprepared_stopping_criteria\u001b[49m\u001b[43m,\u001b[49m\n\u001b[32m   2488\u001b[39m \u001b[43m        \u001b[49m\u001b[43mgeneration_config\u001b[49m\u001b[43m=\u001b[49m\u001b[43mgeneration_config\u001b[49m\u001b[43m,\u001b[49m\n\u001b[32m   2489\u001b[39m \u001b[43m        \u001b[49m\u001b[43msynced_gpus\u001b[49m\u001b[43m=\u001b[49m\u001b[43msynced_gpus\u001b[49m\u001b[43m,\u001b[49m\n\u001b[32m   2490\u001b[39m \u001b[43m        \u001b[49m\u001b[43m*\u001b[49m\u001b[43m*\u001b[49m\u001b[43mmodel_kwargs\u001b[49m\u001b[43m,\u001b[49m\n\u001b[32m   2491\u001b[39m \u001b[43m    \u001b[49m\u001b[43m)\u001b[49m\n\u001b[32m   2493\u001b[39m \u001b[38;5;28;01melif\u001b[39;00m generation_mode == GenerationMode.GROUP_BEAM_SEARCH:\n\u001b[32m   2494\u001b[39m     \u001b[38;5;66;03m# 11. prepare beam search scorer\u001b[39;00m\n\u001b[32m   2495\u001b[39m     beam_scorer = BeamSearchScorer(\n\u001b[32m   2496\u001b[39m         batch_size=batch_size,\n\u001b[32m   2497\u001b[39m         num_beams=generation_config.num_beams,\n\u001b[32m   (...)\u001b[39m\u001b[32m   2503\u001b[39m         max_length=generation_config.max_length,\n\u001b[32m   2504\u001b[39m     )\n",
      "\u001b[36mFile \u001b[39m\u001b[32m~\\AppData\\Local\\Programs\\Python\\Python313\\Lib\\site-packages\\transformers\\generation\\utils.py:4010\u001b[39m, in \u001b[36mGenerationMixin._beam_search\u001b[39m\u001b[34m(self, input_ids, logits_processor, stopping_criteria, generation_config, synced_gpus, **model_kwargs)\u001b[39m\n\u001b[32m   4005\u001b[39m \u001b[38;5;66;03m# g. Prepare remaining data for the next iteration, including computing the stopping condition for\u001b[39;00m\n\u001b[32m   4006\u001b[39m \u001b[38;5;66;03m# beam search as a whole (as opposed to individual beams, i.e. `stopping_criteria`)\u001b[39;00m\n\u001b[32m   4007\u001b[39m \n\u001b[32m   4008\u001b[39m \u001b[38;5;66;03m# pluck the cache from the beam indices that will be used in the next iteration\u001b[39;00m\n\u001b[32m   4009\u001b[39m \u001b[38;5;28;01mif\u001b[39;00m model_kwargs.get(\u001b[33m\"\u001b[39m\u001b[33mpast_key_values\u001b[39m\u001b[33m\"\u001b[39m, \u001b[38;5;28;01mNone\u001b[39;00m) \u001b[38;5;129;01mis\u001b[39;00m \u001b[38;5;129;01mnot\u001b[39;00m \u001b[38;5;28;01mNone\u001b[39;00m:\n\u001b[32m-> \u001b[39m\u001b[32m4010\u001b[39m     model_kwargs[\u001b[33m\"\u001b[39m\u001b[33mpast_key_values\u001b[39m\u001b[33m\"\u001b[39m] = \u001b[38;5;28;43mself\u001b[39;49m\u001b[43m.\u001b[49m\u001b[43m_temporary_reorder_cache\u001b[49m\u001b[43m(\u001b[49m\n\u001b[32m   4011\u001b[39m \u001b[43m        \u001b[49m\u001b[43mpast_key_values\u001b[49m\u001b[43m=\u001b[49m\u001b[43mmodel_kwargs\u001b[49m\u001b[43m[\u001b[49m\u001b[33;43m\"\u001b[39;49m\u001b[33;43mpast_key_values\u001b[39;49m\u001b[33;43m\"\u001b[39;49m\u001b[43m]\u001b[49m\u001b[43m,\u001b[49m\n\u001b[32m   4012\u001b[39m \u001b[43m        \u001b[49m\u001b[43mbeam_idx\u001b[49m\u001b[43m=\u001b[49m\u001b[38;5;28;43mself\u001b[39;49m\u001b[43m.\u001b[49m\u001b[43m_flatten_beam_dim\u001b[49m\u001b[43m(\u001b[49m\u001b[43mrunning_beam_indices\u001b[49m\u001b[43m[\u001b[49m\u001b[43m.\u001b[49m\u001b[43m.\u001b[49m\u001b[43m.\u001b[49m\u001b[43m,\u001b[49m\u001b[43m \u001b[49m\u001b[43mcur_len\u001b[49m\u001b[43m \u001b[49m\u001b[43m-\u001b[49m\u001b[43m \u001b[49m\u001b[43mdecoder_prompt_len\u001b[49m\u001b[43m]\u001b[49m\u001b[43m)\u001b[49m\u001b[43m,\u001b[49m\n\u001b[32m   4013\u001b[39m \u001b[43m    \u001b[49m\u001b[43m)\u001b[49m\n\u001b[32m   4015\u001b[39m cur_len = cur_len + \u001b[32m1\u001b[39m\n\u001b[32m   4016\u001b[39m this_peer_finished = \u001b[38;5;129;01mnot\u001b[39;00m \u001b[38;5;28mself\u001b[39m._beam_search_has_unfinished_sequences(\n\u001b[32m   4017\u001b[39m     running_beam_scores,\n\u001b[32m   4018\u001b[39m     beam_scores,\n\u001b[32m   (...)\u001b[39m\u001b[32m   4025\u001b[39m     length_penalty,\n\u001b[32m   4026\u001b[39m )\n",
      "\u001b[36mFile \u001b[39m\u001b[32m~\\AppData\\Local\\Programs\\Python\\Python313\\Lib\\site-packages\\transformers\\generation\\utils.py:3536\u001b[39m, in \u001b[36mGenerationMixin._temporary_reorder_cache\u001b[39m\u001b[34m(self, past_key_values, beam_idx)\u001b[39m\n\u001b[32m   3534\u001b[39m \u001b[38;5;66;03m# Exception 1: code path for models using the legacy cache format\u001b[39;00m\n\u001b[32m   3535\u001b[39m \u001b[38;5;28;01mif\u001b[39;00m \u001b[38;5;28misinstance\u001b[39m(past_key_values, (\u001b[38;5;28mtuple\u001b[39m, \u001b[38;5;28mlist\u001b[39m)):\n\u001b[32m-> \u001b[39m\u001b[32m3536\u001b[39m     past_key_values = \u001b[38;5;28;43mself\u001b[39;49m\u001b[43m.\u001b[49m\u001b[43m_reorder_cache\u001b[49m\u001b[43m(\u001b[49m\u001b[43mpast_key_values\u001b[49m\u001b[43m,\u001b[49m\u001b[43m \u001b[49m\u001b[43mbeam_idx\u001b[49m\u001b[43m)\u001b[49m\n\u001b[32m   3537\u001b[39m \u001b[38;5;66;03m# Exception 2: models with different cache formats. These are limited to `DynamicCache` until their\u001b[39;00m\n\u001b[32m   3538\u001b[39m \u001b[38;5;66;03m# cache format is standardized, to avoid adding complexity to the codebase.\u001b[39;00m\n\u001b[32m   3539\u001b[39m \u001b[38;5;28;01melif\u001b[39;00m \u001b[33m\"\u001b[39m\u001b[33mgptbigcode\u001b[39m\u001b[33m\"\u001b[39m \u001b[38;5;129;01min\u001b[39;00m model_class:\n",
      "\u001b[36mFile \u001b[39m\u001b[32m~\\AppData\\Local\\Programs\\Python\\Python313\\Lib\\site-packages\\transformers\\models\\biogpt\\modeling_biogpt.py:813\u001b[39m, in \u001b[36mBioGptForCausalLM._reorder_cache\u001b[39m\u001b[34m(past_key_values, beam_idx)\u001b[39m\n\u001b[32m    810\u001b[39m reordered_past = ()\n\u001b[32m    811\u001b[39m \u001b[38;5;28;01mfor\u001b[39;00m layer_past \u001b[38;5;129;01min\u001b[39;00m past_key_values:\n\u001b[32m    812\u001b[39m     reordered_past += (\n\u001b[32m--> \u001b[39m\u001b[32m813\u001b[39m         \u001b[38;5;28;43mtuple\u001b[39;49m\u001b[43m(\u001b[49m\u001b[43mpast_state\u001b[49m\u001b[43m.\u001b[49m\u001b[43mindex_select\u001b[49m\u001b[43m(\u001b[49m\u001b[32;43m0\u001b[39;49m\u001b[43m,\u001b[49m\u001b[43m \u001b[49m\u001b[43mbeam_idx\u001b[49m\u001b[43m.\u001b[49m\u001b[43mto\u001b[49m\u001b[43m(\u001b[49m\u001b[43mpast_state\u001b[49m\u001b[43m.\u001b[49m\u001b[43mdevice\u001b[49m\u001b[43m)\u001b[49m\u001b[43m)\u001b[49m\u001b[43m \u001b[49m\u001b[38;5;28;43;01mfor\u001b[39;49;00m\u001b[43m \u001b[49m\u001b[43mpast_state\u001b[49m\u001b[43m \u001b[49m\u001b[38;5;129;43;01min\u001b[39;49;00m\u001b[43m \u001b[49m\u001b[43mlayer_past\u001b[49m\u001b[43m)\u001b[49m,\n\u001b[32m    814\u001b[39m     )\n\u001b[32m    815\u001b[39m \u001b[38;5;28;01mreturn\u001b[39;00m reordered_past\n",
      "\u001b[36mFile \u001b[39m\u001b[32m~\\AppData\\Local\\Programs\\Python\\Python313\\Lib\\site-packages\\transformers\\models\\biogpt\\modeling_biogpt.py:813\u001b[39m, in \u001b[36m<genexpr>\u001b[39m\u001b[34m(.0)\u001b[39m\n\u001b[32m    810\u001b[39m reordered_past = ()\n\u001b[32m    811\u001b[39m \u001b[38;5;28;01mfor\u001b[39;00m layer_past \u001b[38;5;129;01min\u001b[39;00m past_key_values:\n\u001b[32m    812\u001b[39m     reordered_past += (\n\u001b[32m--> \u001b[39m\u001b[32m813\u001b[39m         \u001b[38;5;28mtuple\u001b[39m(\u001b[43mpast_state\u001b[49m\u001b[43m.\u001b[49m\u001b[43mindex_select\u001b[49m\u001b[43m(\u001b[49m\u001b[32;43m0\u001b[39;49m\u001b[43m,\u001b[49m\u001b[43m \u001b[49m\u001b[43mbeam_idx\u001b[49m\u001b[43m.\u001b[49m\u001b[43mto\u001b[49m\u001b[43m(\u001b[49m\u001b[43mpast_state\u001b[49m\u001b[43m.\u001b[49m\u001b[43mdevice\u001b[49m\u001b[43m)\u001b[49m\u001b[43m)\u001b[49m \u001b[38;5;28;01mfor\u001b[39;00m past_state \u001b[38;5;129;01min\u001b[39;00m layer_past),\n\u001b[32m    814\u001b[39m     )\n\u001b[32m    815\u001b[39m \u001b[38;5;28;01mreturn\u001b[39;00m reordered_past\n",
      "\u001b[31mKeyboardInterrupt\u001b[39m: "
     ]
    }
   ],
   "source": [
    "epicrisis_resultados = []\n",
    "\n",
    "for archivo in os.listdir(carpeta):\n",
    "    if archivo.endswith(\".docx\"):\n",
    "        ruta = os.path.join(carpeta, archivo)\n",
    "        texto = extraer_texto_docx(ruta)\n",
    "        campos = extraer_campos(texto)\n",
    "        campos[\"archivo\"] = archivo\n",
    "\n",
    "        # Generar epicrisis\n",
    "        epicrisis = generar_epicrisis(texto)\n",
    "        campos[\"epicrisis\"] = epicrisis\n",
    "        epicrisis_resultados.append({\"paciente\": campos[\"paciente\"], \"epicrisis\": epicrisis})\n",
    "\n",
    "        # Guardar en archivo\n",
    "        guardar_epicrisis_docxb(campos[\"paciente\"], epicrisis)"
   ]
  },
  {
   "cell_type": "markdown",
   "id": "4702fd40-00c4-48f7-8444-4047f4252a40",
   "metadata": {},
   "source": [
    "#### stanford-biomed/biomedgpt-1.3b"
   ]
  },
  {
   "cell_type": "code",
   "execution_count": null,
   "id": "894e313f-93d8-4e42-810e-4d74c1430dd3",
   "metadata": {},
   "outputs": [],
   "source": [
    "model_name = \"stanford-biomed/biomedgpt-1.3b\"\n",
    "tokenizer = AutoTokenizer.from_pretrained(model_name)\n",
    "model = AutoModelForCausalLM.from_pretrained(model_name)"
   ]
  },
  {
   "cell_type": "code",
   "execution_count": null,
   "id": "0e78ca60-807c-451e-bcdb-afd51030bc68",
   "metadata": {},
   "outputs": [],
   "source": [
    "# Borrar csv al final"
   ]
  },
  {
   "cell_type": "code",
   "execution_count": null,
   "id": "e9a24491-602c-4653-ab1d-152b9d073f9b",
   "metadata": {},
   "outputs": [],
   "source": []
  }
 ],
 "metadata": {
  "kernelspec": {
   "display_name": "Python 3 (ipykernel)",
   "language": "python",
   "name": "python3"
  },
  "language_info": {
   "codemirror_mode": {
    "name": "ipython",
    "version": 3
   },
   "file_extension": ".py",
   "mimetype": "text/x-python",
   "name": "python",
   "nbconvert_exporter": "python",
   "pygments_lexer": "ipython3",
   "version": "3.13.3"
  }
 },
 "nbformat": 4,
 "nbformat_minor": 5
}
