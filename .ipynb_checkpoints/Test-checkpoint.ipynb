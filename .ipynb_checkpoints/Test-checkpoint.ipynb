{
 "cells": [
  {
   "cell_type": "markdown",
   "id": "d2aeae76-b04c-4a56-a3c1-d57e69a5db12",
   "metadata": {},
   "source": [
    "### Paso 1: .doc a .csv"
   ]
  },
  {
   "cell_type": "code",
   "execution_count": 45,
   "id": "072ef634-294c-4061-aba5-72e4804650c2",
   "metadata": {},
   "outputs": [],
   "source": [
    "import os\n",
    "import re\n",
    "import pandas as pd\n",
    "from docx import Document\n",
    "import torch\n",
    "from tqdm import tqdm"
   ]
  },
  {
   "cell_type": "code",
   "execution_count": 46,
   "id": "56d39743-2cf0-4832-859f-f30e1cd6347b",
   "metadata": {},
   "outputs": [],
   "source": [
    "# Ruta a carpeta local con archivos .docx y donde se guardara el archivo .csv\n",
    "carpeta = \"Informes/\"\n",
    "archivo_csv = \"documentos_medicos.csv\"\n",
    "datos = []\n",
    "nuevos_datos = []"
   ]
  },
  {
   "cell_type": "code",
   "execution_count": 47,
   "id": "37ccb823-e775-4012-addb-be098bf673f5",
   "metadata": {},
   "outputs": [],
   "source": [
    "def extraer_texto_docx(archivo):\n",
    "    doc = Document(archivo)\n",
    "    texto = '\\n'.join([p.text for p in doc.paragraphs if p.text.strip() != \"\"])\n",
    "    return texto"
   ]
  },
  {
   "cell_type": "code",
   "execution_count": 48,
   "id": "2734ea31-4bf1-48fa-bc07-ded51e65c6d5",
   "metadata": {},
   "outputs": [],
   "source": [
    "def extraer_campos(texto):\n",
    "    paciente = re.search(r\"Paciente:\\s*(.*)\", texto)\n",
    "    edad = re.search(r\"Edad:\\s*(\\d+)\", texto)\n",
    "    fecha = re.search(r\"Fecha de Ingreso:\\s*(.*)\", texto)\n",
    "    dx = re.search(r\"Diagnóstico Presuntivo:\\s*(.*)\", texto)\n",
    "    meds = re.search(r\"Medicamentos Recetados:(.*?)(Instrucciones|Firma|$)\", texto, re.DOTALL)\n",
    "\n",
    "    return {\n",
    "        \"paciente\": paciente.group(1).strip() if paciente else \"\",\n",
    "        \"edad\": int(edad.group(1)) if edad else \"\",\n",
    "        \"fecha_ingreso\": fecha.group(1).strip() if fecha else \"\",\n",
    "        \"diagnostico\": dx.group(1).strip() if dx else \"\",\n",
    "        \"medicamentos\": meds.group(1).strip().replace(\"\\n\", \", \") if meds else \"\"\n",
    "    }"
   ]
  },
  {
   "cell_type": "code",
   "execution_count": 49,
   "id": "f990d9cb-1916-40b3-a970-0a45ba45f143",
   "metadata": {},
   "outputs": [],
   "source": [
    "# Cargar CSV existente si ya existe\n",
    "if os.path.exists(archivo_csv):\n",
    "    df_existente = pd.read_csv(archivo_csv, encoding='utf-8')\n",
    "else:\n",
    "    df_existente = pd.DataFrame()"
   ]
  },
  {
   "cell_type": "code",
   "execution_count": 50,
   "id": "44ec3b89-6a47-473a-ad99-e12d84ad2412",
   "metadata": {},
   "outputs": [
    {
     "name": "stdout",
     "output_type": "stream",
     "text": [
      "Paciente ya registrado: Juan Pérez — ignorado.\n",
      "No se encontraron pacientes nuevos.\n"
     ]
    }
   ],
   "source": [
    "for archivo in os.listdir(carpeta):\n",
    "    if archivo.endswith(\".docx\"):\n",
    "        ruta = os.path.join(carpeta, archivo)\n",
    "        texto = extraer_texto_docx(ruta)\n",
    "        campos = extraer_campos(texto)\n",
    "        campos[\"archivo\"] = archivo\n",
    "        datos.append(campos)\n",
    "\n",
    "        # Verificar si el paciente existe\n",
    "        if not df_existente.empty and campos[\"paciente\"] in df_existente[\"paciente\"].values:\n",
    "            print(f\"Paciente ya registrado: {campos['paciente']} — ignorado.\")\n",
    "        else:\n",
    "            nuevos_datos.append(campos)\n",
    "\n",
    "# Agregar y guardar\n",
    "if nuevos_datos:\n",
    "    df_nuevos = pd.DataFrame(nuevos_datos)\n",
    "    df_final = pd.concat([df_existente, df_nuevos], ignore_index=True)\n",
    "    df_final.to_csv(archivo_csv, index=False, encoding='utf-8')\n",
    "    print(\"Datos nuevos agregados al CSV.\")\n",
    "else:\n",
    "    print(\"No se encontraron pacientes nuevos.\")"
   ]
  },
  {
   "cell_type": "code",
   "execution_count": 51,
   "id": "c5b64fde-8ed4-45bd-82c8-0fd161c9e3da",
   "metadata": {},
   "outputs": [
    {
     "name": "stdout",
     "output_type": "stream",
     "text": [
      "     paciente  edad        fecha_ingreso                 diagnostico  \\\n",
      "0  Juan Pérez    45  15 de abril de 2025  Posible apendicitis aguda.   \n",
      "\n",
      "                                        medicamentos    archivo  \n",
      "0  Paracetamol 500mg: 1 tableta cada 8 horas para...  tets.docx  \n"
     ]
    }
   ],
   "source": [
    "# Guardar en CSV\n",
    "df = pd.DataFrame(datos)\n",
    "df.to_csv(\"documentos_medicos.csv\", index=False, encoding='utf-8')\n",
    "\n",
    "# Mostrar el contenido del CSV\n",
    "print(df.head())"
   ]
  },
  {
   "cell_type": "code",
   "execution_count": 52,
   "id": "a943c1c4-0d30-47f7-b4a1-8c23940d449e",
   "metadata": {},
   "outputs": [
    {
     "name": "stdout",
     "output_type": "stream",
     "text": [
      "     paciente  edad        fecha_ingreso                 diagnostico  \\\n",
      "0  Juan Pérez    45  15 de abril de 2025  Posible apendicitis aguda.   \n",
      "\n",
      "                                        medicamentos    archivo  \n",
      "0  Paracetamol 500mg: 1 tableta cada 8 horas para...  tets.docx  \n"
     ]
    }
   ],
   "source": [
    "# Leer el archivo CSV\n",
    "df = pd.read_csv(\"documentos_medicos.csv\", encoding='utf-8')\n",
    "\n",
    "# Mostrar las primeras filas\n",
    "print(df.head())"
   ]
  },
  {
   "cell_type": "markdown",
   "id": "c234c1f0-f431-4c60-b92b-f75e58ff3a80",
   "metadata": {},
   "source": [
    "### Paso 2: Entrenar el modelo"
   ]
  },
  {
   "cell_type": "code",
   "execution_count": 85,
   "id": "83699896-864e-4ddc-ba05-34e7740694cd",
   "metadata": {},
   "outputs": [],
   "source": [
    "import pandas as pd\n",
    "from transformers import GPT2LMHeadModel, GPT2Tokenizer\n",
    "from docx import Document\n",
    "\n",
    "# Cargar el modelo y el tokenizer de GPT-2\n",
    "model_name = \"gpt2\"\n",
    "model = GPT2LMHeadModel.from_pretrained(model_name)\n",
    "# Cargar el tokenizador\n",
    "tokenizer = GPT2Tokenizer.from_pretrained(\"gpt2\")\n",
    "\n",
    "# Asignar el `pad_token` como el `eos_token`\n",
    "tokenizer.pad_token = tokenizer.eos_token\n",
    "\n",
    "# Asignar el `pad_token` como el `eos_token`\n",
    "tokenizer.pad_token = tokenizer.eos_token"
   ]
  },
  {
   "cell_type": "code",
   "execution_count": 86,
   "id": "bd0fbc78-18e4-4d80-b7e5-d73c2f0ed974",
   "metadata": {},
   "outputs": [],
   "source": [
    "# Crear un documento de Word para guardar las epicrisis generadas\n",
    "doc = Document()"
   ]
  },
  {
   "cell_type": "code",
   "execution_count": 87,
   "id": "5ea30578-a3a1-4a98-90f9-9baebe4c1e5e",
   "metadata": {},
   "outputs": [
    {
     "name": "stderr",
     "output_type": "stream",
     "text": [
      "Setting `pad_token_id` to `eos_token_id`:50256 for open-end generation.\n"
     ]
    },
    {
     "name": "stdout",
     "output_type": "stream",
     "text": [
      "Epicrisis generadas y guardadas en 'epicrisis_generadas.docx'.\n"
     ]
    }
   ],
   "source": [
    "# Iterar sobre cada fila del CSV\n",
    "for index, row in df.iterrows():\n",
    "    # Extraer información relevante de cada fila (como diagnóstico y medicamentos)\n",
    "    paciente = row[\"paciente\"]\n",
    "    edad = row[\"edad\"]\n",
    "    fecha_ingreso = row[\"fecha_ingreso\"]\n",
    "    diagnostico = row[\"diagnostico\"]\n",
    "    medicamentos = row[\"medicamentos\"]\n",
    "\n",
    "    # Crear un prompt para la epicrisis\n",
    "    input_text = f\"Paciente: {paciente}, Edad: {edad}, Fecha de ingreso: {fecha_ingreso}. Diagnóstico: {diagnostico}. Medicamentos: {medicamentos}. Escribe una epicrisis médica.\"\n",
    "\n",
    "    # Tokenizar el texto de entrada\n",
    "    inputs = tokenizer(input_text, return_tensors=\"pt\", padding=True, truncation=True)\n",
    "\n",
    "    # Obtener el attention_mask del input tokenizado\n",
    "    attention_mask = inputs.get('attention_mask', None)\n",
    "\n",
    "    # Generar la salida con atención a los tokens relevantes\n",
    "    outputs = model.generate(\n",
    "        inputs['input_ids'],  # Pasar los input_ids\n",
    "        attention_mask=attention_mask,  # Incluir el attention_mask\n",
    "        max_length=250,  # Definir el tamaño máximo de la secuencia generada\n",
    "        num_beams=5,  # Número de haces (beams) para la generación de texto (mejora la calidad)\n",
    "        no_repeat_ngram_size=2,  # Evitar repeticiones\n",
    "        early_stopping=True  # Detener la generación si se alcanza un umbral de calidad\n",
    "    )\n",
    "\n",
    "    # Decodificar la salida generada\n",
    "    decoded_output = tokenizer.decode(outputs[0], skip_special_tokens=True)\n",
    "\n",
    "    # Escribir la epicrisis generada en el documento Word\n",
    "    doc.add_heading(f\"Epicrisis del Paciente: {paciente}\", level=1)\n",
    "    doc.add_paragraph(f\"Edad: {edad} años\")\n",
    "    doc.add_paragraph(f\"Fecha de Ingreso: {fecha_ingreso}\")\n",
    "    doc.add_paragraph(f\"Diagnóstico: {diagnostico}\")\n",
    "    doc.add_paragraph(f\"Medicamentos: {medicamentos}\")\n",
    "    doc.add_paragraph(f\"Epicrisis Generada: {decoded_output}\\n\")\n",
    "    \n",
    "    # Agregar una línea separadora entre pacientes\n",
    "    doc.add_paragraph(\"=\"*50)\n",
    "\n",
    "# Guardar el documento Word con las epicrisis generadas\n",
    "doc.save(\"epicrisis_generadas.docx\")\n",
    "\n",
    "print(\"Epicrisis generadas y guardadas en 'epicrisis_generadas.docx'.\")\n"
   ]
  },
  {
   "cell_type": "code",
   "execution_count": null,
   "id": "aa5c773a-e516-44d2-885a-ef3d12e6d175",
   "metadata": {},
   "outputs": [],
   "source": []
  },
  {
   "cell_type": "code",
   "execution_count": null,
   "id": "0e78ca60-807c-451e-bcdb-afd51030bc68",
   "metadata": {},
   "outputs": [],
   "source": []
  },
  {
   "cell_type": "code",
   "execution_count": null,
   "id": "e9a24491-602c-4653-ab1d-152b9d073f9b",
   "metadata": {},
   "outputs": [],
   "source": []
  }
 ],
 "metadata": {
  "kernelspec": {
   "display_name": "Python 3 (ipykernel)",
   "language": "python",
   "name": "python3"
  },
  "language_info": {
   "codemirror_mode": {
    "name": "ipython",
    "version": 3
   },
   "file_extension": ".py",
   "mimetype": "text/x-python",
   "name": "python",
   "nbconvert_exporter": "python",
   "pygments_lexer": "ipython3",
   "version": "3.13.3"
  }
 },
 "nbformat": 4,
 "nbformat_minor": 5
}
